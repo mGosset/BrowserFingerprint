{
 "cells": [
  {
   "cell_type": "code",
   "execution_count": 2,
   "metadata": {},
   "outputs": [],
   "source": [
    "from fingerprint import Fingerprint\n",
    "import MySQLdb as mdb"
   ]
  },
  {
   "cell_type": "code",
   "execution_count": 4,
   "metadata": {},
   "outputs": [],
   "source": [
    "def get_fingerprints_experiments(cur, min_nb_fingerprints, attributes, limitTest=300000):\n",
    "    cur.execute(\"SELECT *, NULL as canvasJS FROM extensionData WHERE \\\n",
    "                id in (SELECT id FROM extensionData WHERE counter < \"+str(limitTest)+\" GROUP BY \\\n",
    "                id having count(*) > \"+str(min_nb_fingerprints)+\")\\\n",
    "                ORDER by counter ASC\")\n",
    "    fps = cur.fetchall()\n",
    "    fp_set = []\n",
    "    for fp in fps:\n",
    "        try:\n",
    "            fp_set.append(Fingerprint(attributes, fp))\n",
    "        except Exception as e:\n",
    "            print(e)\n",
    "\n",
    "    return fp_set"
   ]
  },
  {
   "cell_type": "code",
   "execution_count": 5,
   "metadata": {},
   "outputs": [],
   "source": [
    "con = mdb.connect('localhost', 'root', 'bdd', 'fingerprint')\n",
    "cur = con.cursor(mdb.cursors.DictCursor)\n",
    "attributes = Fingerprint.MYSQL_ATTRIBUTES\n",
    "fingerprints = get_fingerprints_experiments(cur, 10, attributes, limitTest=60000)"
   ]
  },
  {
   "cell_type": "code",
   "execution_count": 11,
   "metadata": {},
   "outputs": [
    {
     "ename": "SyntaxError",
     "evalue": "invalid syntax (<ipython-input-11-22089dd0688a>, line 1)",
     "output_type": "error",
     "traceback": [
      "\u001b[0;36m  File \u001b[0;32m\"<ipython-input-11-22089dd0688a>\"\u001b[0;36m, line \u001b[0;32m1\u001b[0m\n\u001b[0;31m    select count(ID) from fingerprint;\u001b[0m\n\u001b[0m               ^\u001b[0m\n\u001b[0;31mSyntaxError\u001b[0m\u001b[0;31m:\u001b[0m invalid syntax\n"
     ]
    }
   ],
   "source": [
    "cur.execute(\"SELECT *,\")\n",
    "res = cur.fetchall()"
   ]
  },
  {
   "cell_type": "code",
   "execution_count": null,
   "metadata": {},
   "outputs": [],
   "source": []
  },
  {
   "cell_type": "code",
   "execution_count": null,
   "metadata": {},
   "outputs": [],
   "source": []
  }
 ],
 "metadata": {
  "kernelspec": {
   "display_name": "Python 3",
   "language": "python",
   "name": "python3"
  },
  "language_info": {
   "codemirror_mode": {
    "name": "ipython",
    "version": 3
   },
   "file_extension": ".py",
   "mimetype": "text/x-python",
   "name": "python",
   "nbconvert_exporter": "python",
   "pygments_lexer": "ipython3",
   "version": "3.6.5"
  }
 },
 "nbformat": 4,
 "nbformat_minor": 2
}
