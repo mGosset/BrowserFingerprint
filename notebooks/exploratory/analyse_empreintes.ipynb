{
 "cells": [
  {
   "cell_type": "code",
   "execution_count": 19,
   "metadata": {},
   "outputs": [],
   "source": [
    "import MySQLdb as mdb\n",
    "import sys\n",
    "sys.path.append(\"../src/\")\n",
    "from src.fingerprint import Fingerprint"
   ]
  },
  {
   "cell_type": "code",
   "execution_count": null,
   "metadata": {},
   "outputs": [],
   "source": [
    "def get_fingerprints_experiments(cur, min_nb_fingerprints, attributes, limitTest=300000):\n",
    "    cur.execute(\"SELECT *, NULL as canvasJS FROM extensionData WHERE \\\n",
    "                id in (SELECT id FROM extensionData WHERE counter < \"+str(limitTest)+\" GROUP BY \\\n",
    "                id having count(*) > \"+str(min_nb_fingerprints)+\")\\\n",
    "                ORDER by counter ASC\")\n",
    "    fps = cur.fetchall()\n",
    "    fp_set = []\n",
    "    for fp in fps:\n",
    "        try:\n",
    "            fp_set.append(Fingerprint(attributes, fp))\n",
    "        except Exception as e:\n",
    "            print(e)\n",
    "\n",
    "    return fp_set"
   ]
  },
  {
   "cell_type": "code",
   "execution_count": 12,
   "metadata": {},
   "outputs": [],
   "source": [
    "con = mdb.connect('localhost', 'root', 'bdd', 'fingerprint')\n",
    "cur = con.cursor(mdb.cursors.DictCursor)"
   ]
  },
  {
   "cell_type": "code",
   "execution_count": null,
   "metadata": {},
   "outputs": [],
   "source": [
    "fingerprints = get_fingerprints_experiments(cur, 10, Fingerprint.MYSQL_ATTRIBUTES, limitTest=60000)"
   ]
  },
  {
   "cell_type": "code",
   "execution_count": 13,
   "metadata": {
    "collapsed": true
   },
   "outputs": [
    {
     "name": "stdout",
     "output_type": "stream",
     "text": [
      "addressHttp 23303\nlanguageHttp 655\nIEDataJS 1\ncanvasJSHashed 4002\nplatformFlash 291\nhostHttp 3\nplatformJS 33\ncreationDate 11886\ncookiesJS 2\nuserAgentHttp 3551\nresolutionFlash 311\ndntJS 2\ntimezoneJS 35\nendDate 11806\npluginsJS 5830\nfontsFlash 5341\norderHttp 196\nsessionJS 2\nconnectionHttp 2\ncounter 94767\nresolutionJS 610\nadBlock 2\nid 5809\nencodingHttp 18\nlocalJS 2\nacceptHttp 17\nlanguageFlash 28\n"
     ]
    }
   ],
   "source": [
    "number_distinct_values = analyse.get_number_distinct_values(cur, Fingerprint.MYSQL_ATTRIBUTES)\n",
    "for attribute, number in number_distinct_values.items():\n",
    "    print(attribute, number)"
   ]
  },
  {
   "cell_type": "code",
   "execution_count": 11,
   "metadata": {},
   "outputs": [
    {
     "data": {
      "text/plain": [
       "5809"
      ]
     },
     "execution_count": 11,
     "metadata": {},
     "output_type": "execute_result"
    }
   ],
   "source": [
    ""
   ]
  },
  {
   "cell_type": "code",
   "execution_count": null,
   "metadata": {},
   "outputs": [],
   "source": [
    ""
   ]
  }
 ],
 "metadata": {
  "kernelspec": {
   "display_name": "Python 3",
   "language": "python",
   "name": "python3"
  },
  "language_info": {
   "codemirror_mode": {
    "name": "ipython",
    "version": 3
   },
   "file_extension": ".py",
   "mimetype": "text/x-python",
   "name": "python",
   "nbconvert_exporter": "python",
   "pygments_lexer": "ipython3",
   "version": "3.6.5"
  }
 },
 "nbformat": 4,
 "nbformat_minor": 2
}
