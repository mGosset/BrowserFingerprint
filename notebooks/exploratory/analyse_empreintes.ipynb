{
 "cells": [
  {
   "cell_type": "code",
   "execution_count": 4,
   "metadata": {},
   "outputs": [],
   "source": [
    "import MySQLdb as mdb\n",
    "import sys\n",
    "sys.path.append(\"../src/\")\n",
    "from src.fingerprint import Fingerprint\n",
    "from src import CSV_DELIMITER\n",
    "import pandas as pd\n",
    "DATA_PATH_REL = \"../../data/\""
   ]
  },
  {
   "cell_type": "code",
   "execution_count": 5,
   "metadata": {},
   "outputs": [],
   "source": [
    "ATTRIBUTES_TO_EXCLUDE = [Fingerprint.COUNTER, Fingerprint.CREATION_TIME, Fingerprint.END_TIME, Fingerprint.CONSISTENT]"
   ]
  },
  {
   "cell_type": "code",
   "execution_count": 6,
   "metadata": {},
   "outputs": [],
   "source": [
    "df = pd.read_csv(DATA_PATH_REL + \"processed/fingerprint_dataset.csv\", delimiter=CSV_DELIMITER, engine=\"python\")"
   ]
  },
  {
   "cell_type": "code",
   "execution_count": null,
   "metadata": {},
   "outputs": [],
   "source": [
    "fingerprints = get_fingerprints_experiments(cur, 10, Fingerprint.MYSQL_ATTRIBUTES, limitTest=60000)"
   ]
  },
  {
   "cell_type": "code",
   "execution_count": 13,
   "metadata": {},
   "outputs": [
    {
     "name": "stdout",
     "output_type": "stream",
     "text": [
      "addressHttp 23303\n",
      "languageHttp 655\n",
      "IEDataJS 1\n",
      "canvasJSHashed 4002\n",
      "platformFlash 291\n",
      "hostHttp 3\n",
      "platformJS 33\n",
      "creationDate 11886\n",
      "cookiesJS 2\n",
      "userAgentHttp 3551\n",
      "resolutionFlash 311\n",
      "dntJS 2\n",
      "timezoneJS 35\n",
      "endDate 11806\n",
      "pluginsJS 5830\n",
      "fontsFlash 5341\n",
      "orderHttp 196\n",
      "sessionJS 2\n",
      "connectionHttp 2\n",
      "counter 94767\n",
      "resolutionJS 610\n",
      "adBlock 2\n",
      "id 5809\n",
      "encodingHttp 18\n",
      "localJS 2\n",
      "acceptHttp 17\n",
      "languageFlash 28\n"
     ]
    }
   ],
   "source": [
    "number_distinct_values = analyse.get_number_distinct_values(cur, Fingerprint.MYSQL_ATTRIBUTES)\n",
    "for attribute, number in number_distinct_values.items():\n",
    "    print(attribute, number)"
   ]
  },
  {
   "cell_type": "code",
   "execution_count": 46,
   "metadata": {},
   "outputs": [],
   "source": [
    "attributes_to_analyze = [attribute for attribute in df.columns.tolist() if attribute not in ATTRIBUTES_TO_EXCLUDE]\n",
    "df_consistent = df[df[Fingerprint.CONSISTENT] == True ]"
   ]
  },
  {
   "cell_type": "code",
   "execution_count": 57,
   "metadata": {},
   "outputs": [
    {
     "data": {
      "text/plain": [
       "Index(['counter', 'id', 'creationDate', 'endDate', 'addressHttp',\n",
       "       'userAgentHttp', 'acceptHttp', 'connectionHttp', 'encodingHttp',\n",
       "       'languageHttp', 'orderHttp', 'pluginsJSHashed', 'platformJS',\n",
       "       'cookiesJS', 'dntJS', 'timezoneJS', 'resolutionJS', 'localJS',\n",
       "       'sessionJS', 'canvasJSHashed', 'fontsFlashHashed', 'resolutionFlash',\n",
       "       'languageFlash', 'platformFlash', 'browserFamily',\n",
       "       'globalBrowserVersion', 'minorBrowserVersion', 'majorBrowserVersion',\n",
       "       'os', 'rendererWebGLJS', 'vendorWebGLJS', 'consistent'],\n",
       "      dtype='object')"
      ]
     },
     "execution_count": 57,
     "metadata": {},
     "output_type": "execute_result"
    }
   ],
   "source": [
    "df_consistent.columns"
   ]
  },
  {
   "cell_type": "code",
   "execution_count": 45,
   "metadata": {},
   "outputs": [
    {
     "data": {
      "text/html": [
       "<div>\n",
       "<style scoped>\n",
       "    .dataframe tbody tr th:only-of-type {\n",
       "        vertical-align: middle;\n",
       "    }\n",
       "\n",
       "    .dataframe tbody tr th {\n",
       "        vertical-align: top;\n",
       "    }\n",
       "\n",
       "    .dataframe thead th {\n",
       "        text-align: right;\n",
       "    }\n",
       "</style>\n",
       "<table border=\"1\" class=\"dataframe\">\n",
       "  <thead>\n",
       "    <tr style=\"text-align: right;\">\n",
       "      <th></th>\n",
       "      <th>counter</th>\n",
       "      <th>id</th>\n",
       "      <th>creationDate</th>\n",
       "      <th>endDate</th>\n",
       "      <th>addressHttp</th>\n",
       "      <th>userAgentHttp</th>\n",
       "      <th>acceptHttp</th>\n",
       "      <th>connectionHttp</th>\n",
       "      <th>encodingHttp</th>\n",
       "      <th>languageHttp</th>\n",
       "      <th>...</th>\n",
       "      <th>languageFlash</th>\n",
       "      <th>platformFlash</th>\n",
       "      <th>browserFamily</th>\n",
       "      <th>globalBrowserVersion</th>\n",
       "      <th>minorBrowserVersion</th>\n",
       "      <th>majorBrowserVersion</th>\n",
       "      <th>os</th>\n",
       "      <th>rendererWebGLJS</th>\n",
       "      <th>vendorWebGLJS</th>\n",
       "      <th>consistent</th>\n",
       "    </tr>\n",
       "  </thead>\n",
       "  <tbody>\n",
       "    <tr>\n",
       "      <th>15</th>\n",
       "      <td>17</td>\n",
       "      <td>0f4f77e3-80da-4b4a-b9c0-f5e8c4239380</td>\n",
       "      <td>2015-07-27 11:00:00</td>\n",
       "      <td>None</td>\n",
       "      <td>24f5398bba446ce8dadfd3d23ca2f4e58895e76e</td>\n",
       "      <td>Mozilla/5.0 (X11; Linux x86_64) AppleWebKit/53...</td>\n",
       "      <td>text/html,application/xhtml+xml,application/xm...</td>\n",
       "      <td>close</td>\n",
       "      <td>gzip, deflate, sdch</td>\n",
       "      <td>en-US,en;q=0.8,fr;q=0.6</td>\n",
       "      <td>...</td>\n",
       "      <td>en</td>\n",
       "      <td>Linux</td>\n",
       "      <td>Chrome</td>\n",
       "      <td>440</td>\n",
       "      <td>0</td>\n",
       "      <td>44</td>\n",
       "      <td>Linux</td>\n",
       "      <td>Mesa DRI Intel(R) Haswell Mobile</td>\n",
       "      <td>Intel Open Source Technology Center</td>\n",
       "      <td>True</td>\n",
       "    </tr>\n",
       "    <tr>\n",
       "      <th>17</th>\n",
       "      <td>19</td>\n",
       "      <td>74bf8f6f-0114-44b4-9bca-1cfc52ffc2d3</td>\n",
       "      <td>2015-07-27 12:00:00</td>\n",
       "      <td>None</td>\n",
       "      <td>24f5398bba446ce8dadfd3d23ca2f4e58895e76e</td>\n",
       "      <td>Mozilla/5.0 (X11; Linux x86_64) AppleWebKit/53...</td>\n",
       "      <td>text/html,application/xhtml+xml,application/xm...</td>\n",
       "      <td>close</td>\n",
       "      <td>gzip, deflate, sdch</td>\n",
       "      <td>en-US,en;q=0.8,fr;q=0.6</td>\n",
       "      <td>...</td>\n",
       "      <td>en</td>\n",
       "      <td>Linux</td>\n",
       "      <td>Chrome</td>\n",
       "      <td>440</td>\n",
       "      <td>0</td>\n",
       "      <td>44</td>\n",
       "      <td>Linux</td>\n",
       "      <td>Mesa DRI Intel(R) Haswell Mobile</td>\n",
       "      <td>Intel Open Source Technology Center</td>\n",
       "      <td>True</td>\n",
       "    </tr>\n",
       "    <tr>\n",
       "      <th>18</th>\n",
       "      <td>20</td>\n",
       "      <td>df46c5fb-9889-4ff4-9f51-e5af591f3460</td>\n",
       "      <td>2015-07-27 12:00:00</td>\n",
       "      <td>None</td>\n",
       "      <td>24f5398bba446ce8dadfd3d23ca2f4e58895e76e</td>\n",
       "      <td>Mozilla/5.0 (X11; Linux x86_64) AppleWebKit/53...</td>\n",
       "      <td>text/html,application/xhtml+xml,application/xm...</td>\n",
       "      <td>close</td>\n",
       "      <td>gzip, deflate, sdch</td>\n",
       "      <td>en-US,en;q=0.8,fr;q=0.6</td>\n",
       "      <td>...</td>\n",
       "      <td>en</td>\n",
       "      <td>Linux</td>\n",
       "      <td>Chrome</td>\n",
       "      <td>440</td>\n",
       "      <td>0</td>\n",
       "      <td>44</td>\n",
       "      <td>Linux</td>\n",
       "      <td>Mesa DRI Intel(R) Haswell Mobile</td>\n",
       "      <td>Intel Open Source Technology Center</td>\n",
       "      <td>True</td>\n",
       "    </tr>\n",
       "    <tr>\n",
       "      <th>20</th>\n",
       "      <td>22</td>\n",
       "      <td>d51d09c6-2596-4958-bfe7-0352af2aaccf</td>\n",
       "      <td>2015-07-27 12:00:00</td>\n",
       "      <td>2015-07-29 06:00:00</td>\n",
       "      <td>2515ee56512877237d467911f5c55be53eea3550</td>\n",
       "      <td>Mozilla/5.0 (X11; Linux x86_64) AppleWebKit/53...</td>\n",
       "      <td>text/html,application/xhtml+xml,application/xm...</td>\n",
       "      <td>close</td>\n",
       "      <td>gzip, deflate, sdch</td>\n",
       "      <td>fr-FR,fr;q=0.8,en-US;q=0.6,en;q=0.4</td>\n",
       "      <td>...</td>\n",
       "      <td>en</td>\n",
       "      <td>Linux</td>\n",
       "      <td>Chrome</td>\n",
       "      <td>430</td>\n",
       "      <td>0</td>\n",
       "      <td>43</td>\n",
       "      <td>Linux</td>\n",
       "      <td>Not supported</td>\n",
       "      <td>Not supported</td>\n",
       "      <td>True</td>\n",
       "    </tr>\n",
       "    <tr>\n",
       "      <th>35</th>\n",
       "      <td>39</td>\n",
       "      <td>7c7f536a-055b-4b4c-b30f-2ae078797bea</td>\n",
       "      <td>2015-07-29 14:00:00</td>\n",
       "      <td>None</td>\n",
       "      <td>24f5398bba446ce8dadfd3d23ca2f4e58895e76e</td>\n",
       "      <td>Mozilla/5.0 (X11; Linux x86_64) AppleWebKit/53...</td>\n",
       "      <td>text/html,application/xhtml+xml,application/xm...</td>\n",
       "      <td>close</td>\n",
       "      <td>gzip, deflate, sdch</td>\n",
       "      <td>en-US,en;q=0.8,fr;q=0.6</td>\n",
       "      <td>...</td>\n",
       "      <td>en</td>\n",
       "      <td>Linux</td>\n",
       "      <td>Chrome</td>\n",
       "      <td>440</td>\n",
       "      <td>0</td>\n",
       "      <td>44</td>\n",
       "      <td>Linux</td>\n",
       "      <td>Mesa DRI Intel(R) Haswell Mobile</td>\n",
       "      <td>Intel Open Source Technology Center</td>\n",
       "      <td>True</td>\n",
       "    </tr>\n",
       "  </tbody>\n",
       "</table>\n",
       "<p>5 rows × 32 columns</p>\n",
       "</div>"
      ],
      "text/plain": [
       "    counter                                    id         creationDate  \\\n",
       "15       17  0f4f77e3-80da-4b4a-b9c0-f5e8c4239380  2015-07-27 11:00:00   \n",
       "17       19  74bf8f6f-0114-44b4-9bca-1cfc52ffc2d3  2015-07-27 12:00:00   \n",
       "18       20  df46c5fb-9889-4ff4-9f51-e5af591f3460  2015-07-27 12:00:00   \n",
       "20       22  d51d09c6-2596-4958-bfe7-0352af2aaccf  2015-07-27 12:00:00   \n",
       "35       39  7c7f536a-055b-4b4c-b30f-2ae078797bea  2015-07-29 14:00:00   \n",
       "\n",
       "                endDate                               addressHttp  \\\n",
       "15                 None  24f5398bba446ce8dadfd3d23ca2f4e58895e76e   \n",
       "17                 None  24f5398bba446ce8dadfd3d23ca2f4e58895e76e   \n",
       "18                 None  24f5398bba446ce8dadfd3d23ca2f4e58895e76e   \n",
       "20  2015-07-29 06:00:00  2515ee56512877237d467911f5c55be53eea3550   \n",
       "35                 None  24f5398bba446ce8dadfd3d23ca2f4e58895e76e   \n",
       "\n",
       "                                        userAgentHttp  \\\n",
       "15  Mozilla/5.0 (X11; Linux x86_64) AppleWebKit/53...   \n",
       "17  Mozilla/5.0 (X11; Linux x86_64) AppleWebKit/53...   \n",
       "18  Mozilla/5.0 (X11; Linux x86_64) AppleWebKit/53...   \n",
       "20  Mozilla/5.0 (X11; Linux x86_64) AppleWebKit/53...   \n",
       "35  Mozilla/5.0 (X11; Linux x86_64) AppleWebKit/53...   \n",
       "\n",
       "                                           acceptHttp connectionHttp  \\\n",
       "15  text/html,application/xhtml+xml,application/xm...          close   \n",
       "17  text/html,application/xhtml+xml,application/xm...          close   \n",
       "18  text/html,application/xhtml+xml,application/xm...          close   \n",
       "20  text/html,application/xhtml+xml,application/xm...          close   \n",
       "35  text/html,application/xhtml+xml,application/xm...          close   \n",
       "\n",
       "           encodingHttp                         languageHttp    ...      \\\n",
       "15  gzip, deflate, sdch              en-US,en;q=0.8,fr;q=0.6    ...       \n",
       "17  gzip, deflate, sdch              en-US,en;q=0.8,fr;q=0.6    ...       \n",
       "18  gzip, deflate, sdch              en-US,en;q=0.8,fr;q=0.6    ...       \n",
       "20  gzip, deflate, sdch  fr-FR,fr;q=0.8,en-US;q=0.6,en;q=0.4    ...       \n",
       "35  gzip, deflate, sdch              en-US,en;q=0.8,fr;q=0.6    ...       \n",
       "\n",
       "   languageFlash platformFlash browserFamily globalBrowserVersion  \\\n",
       "15            en         Linux        Chrome                  440   \n",
       "17            en         Linux        Chrome                  440   \n",
       "18            en         Linux        Chrome                  440   \n",
       "20            en         Linux        Chrome                  430   \n",
       "35            en         Linux        Chrome                  440   \n",
       "\n",
       "   minorBrowserVersion  majorBrowserVersion     os  \\\n",
       "15                   0                   44  Linux   \n",
       "17                   0                   44  Linux   \n",
       "18                   0                   44  Linux   \n",
       "20                   0                   43  Linux   \n",
       "35                   0                   44  Linux   \n",
       "\n",
       "                      rendererWebGLJS                        vendorWebGLJS  \\\n",
       "15  Mesa DRI Intel(R) Haswell Mobile   Intel Open Source Technology Center   \n",
       "17  Mesa DRI Intel(R) Haswell Mobile   Intel Open Source Technology Center   \n",
       "18  Mesa DRI Intel(R) Haswell Mobile   Intel Open Source Technology Center   \n",
       "20                      Not supported                        Not supported   \n",
       "35  Mesa DRI Intel(R) Haswell Mobile   Intel Open Source Technology Center   \n",
       "\n",
       "   consistent  \n",
       "15       True  \n",
       "17       True  \n",
       "18       True  \n",
       "20       True  \n",
       "35       True  \n",
       "\n",
       "[5 rows x 32 columns]"
      ]
     },
     "execution_count": 45,
     "metadata": {},
     "output_type": "execute_result"
    }
   ],
   "source": [
    "df_consistent.head(5)"
   ]
  },
  {
   "cell_type": "code",
   "execution_count": 151,
   "metadata": {},
   "outputs": [
    {
     "data": {
      "text/plain": [
       "Windows 7        730\n",
       "Windows 10       486\n",
       "Linux            245\n",
       "Mac OS X         170\n",
       "Windows 8.1      163\n",
       "Ubuntu           158\n",
       "Windows XP        71\n",
       "Chrome OS         40\n",
       "Windows 8         27\n",
       "Windows Vista     16\n",
       "Other              9\n",
       "OpenBSD            6\n",
       "FreeBSD            3\n",
       "NetBSD             1\n",
       "Name: os, dtype: int64"
      ]
     },
     "execution_count": 151,
     "metadata": {},
     "output_type": "execute_result"
    }
   ],
   "source": [
    "nb = df_consistent[Fingerprint.OS].value_counts()\n",
    "nb"
   ]
  },
  {
   "cell_type": "code",
   "execution_count": 100,
   "metadata": {},
   "outputs": [
    {
     "data": {
      "text/plain": [
       "10095     12782\n",
       "45033     57934\n",
       "52521     67757\n",
       "59961     77378\n",
       "71595     93843\n",
       "72843     95707\n",
       "87820    118549\n",
       "Name: counter, dtype: int64"
      ]
     },
     "execution_count": 100,
     "metadata": {},
     "output_type": "execute_result"
    }
   ],
   "source": [
    "df_consistent[df_consistent[Fingerprint.MAJOR_BROWSER_VERSION] == \"None\"][\"counter\"]"
   ]
  },
  {
   "cell_type": "code",
   "execution_count": 101,
   "metadata": {},
   "outputs": [
    {
     "data": {
      "text/plain": [
       "10095    this is a test ua &lt;img src=x onerror= alert...\n",
       "45033                       xChaos_Arachne/5.1.89;GPL,386+\n",
       "52521    Mozilla/5.0 (PlayStation 4 3.15) AppleWebKit/5...\n",
       "59961    Mozilla/5.0 (Windows NT 10.0; Win64; x64; rv:4...\n",
       "71595                                                  NaN\n",
       "72843                                                  NaN\n",
       "87820                                                  NaN\n",
       "Name: userAgentHttp, dtype: object"
      ]
     },
     "execution_count": 101,
     "metadata": {},
     "output_type": "execute_result"
    }
   ],
   "source": [
    "df_consistent[df_consistent[Fingerprint.MAJOR_BROWSER_VERSION]== \"None\"][\"userAgentHttp\"]"
   ]
  },
  {
   "cell_type": "code",
   "execution_count": 98,
   "metadata": {},
   "outputs": [
    {
     "data": {
      "text/html": [
       "<div>\n",
       "<style scoped>\n",
       "    .dataframe tbody tr th:only-of-type {\n",
       "        vertical-align: middle;\n",
       "    }\n",
       "\n",
       "    .dataframe tbody tr th {\n",
       "        vertical-align: top;\n",
       "    }\n",
       "\n",
       "    .dataframe thead th {\n",
       "        text-align: right;\n",
       "    }\n",
       "</style>\n",
       "<table border=\"1\" class=\"dataframe\">\n",
       "  <thead>\n",
       "    <tr style=\"text-align: right;\">\n",
       "      <th></th>\n",
       "      <th>counter</th>\n",
       "      <th>id</th>\n",
       "      <th>creationDate</th>\n",
       "      <th>endDate</th>\n",
       "      <th>addressHttp</th>\n",
       "      <th>userAgentHttp</th>\n",
       "      <th>acceptHttp</th>\n",
       "      <th>connectionHttp</th>\n",
       "      <th>encodingHttp</th>\n",
       "      <th>languageHttp</th>\n",
       "      <th>...</th>\n",
       "      <th>languageFlash</th>\n",
       "      <th>platformFlash</th>\n",
       "      <th>browserFamily</th>\n",
       "      <th>globalBrowserVersion</th>\n",
       "      <th>minorBrowserVersion</th>\n",
       "      <th>majorBrowserVersion</th>\n",
       "      <th>os</th>\n",
       "      <th>rendererWebGLJS</th>\n",
       "      <th>vendorWebGLJS</th>\n",
       "      <th>consistent</th>\n",
       "    </tr>\n",
       "  </thead>\n",
       "  <tbody>\n",
       "    <tr>\n",
       "      <th>37496</th>\n",
       "      <td>47714</td>\n",
       "      <td>3371db88-3ffe-4c67-8187-ec262ab62112</td>\n",
       "      <td>2016-06-24 18:00:00</td>\n",
       "      <td>None</td>\n",
       "      <td>5c1cb9cba5e0e48ebd1237cc58f936ded716b681</td>\n",
       "      <td>Mozilla/5.0 (Macintosh; Intel Mac OS X 10_10_2...</td>\n",
       "      <td>text/html,application/xhtml+xml,application/xm...</td>\n",
       "      <td>close</td>\n",
       "      <td>gzip,deflate,sdch</td>\n",
       "      <td>en-US,en;q=0.8</td>\n",
       "      <td>...</td>\n",
       "      <td>Flash not detected</td>\n",
       "      <td>Flash not detected</td>\n",
       "      <td>Chrome</td>\n",
       "      <td>432357</td>\n",
       "      <td>2357</td>\n",
       "      <td>43</td>\n",
       "      <td>Mac OS X</td>\n",
       "      <td>Not supported</td>\n",
       "      <td>Not supported</td>\n",
       "      <td>True</td>\n",
       "    </tr>\n",
       "  </tbody>\n",
       "</table>\n",
       "<p>1 rows × 32 columns</p>\n",
       "</div>"
      ],
      "text/plain": [
       "       counter                                    id         creationDate  \\\n",
       "37496    47714  3371db88-3ffe-4c67-8187-ec262ab62112  2016-06-24 18:00:00   \n",
       "\n",
       "      endDate                               addressHttp  \\\n",
       "37496    None  5c1cb9cba5e0e48ebd1237cc58f936ded716b681   \n",
       "\n",
       "                                           userAgentHttp  \\\n",
       "37496  Mozilla/5.0 (Macintosh; Intel Mac OS X 10_10_2...   \n",
       "\n",
       "                                              acceptHttp connectionHttp  \\\n",
       "37496  text/html,application/xhtml+xml,application/xm...          close   \n",
       "\n",
       "            encodingHttp    languageHttp    ...           languageFlash  \\\n",
       "37496  gzip,deflate,sdch  en-US,en;q=0.8    ...      Flash not detected   \n",
       "\n",
       "            platformFlash browserFamily globalBrowserVersion  \\\n",
       "37496  Flash not detected        Chrome               432357   \n",
       "\n",
       "      minorBrowserVersion  majorBrowserVersion        os rendererWebGLJS  \\\n",
       "37496                2357                   43  Mac OS X   Not supported   \n",
       "\n",
       "       vendorWebGLJS consistent  \n",
       "37496  Not supported       True  \n",
       "\n",
       "[1 rows x 32 columns]"
      ]
     },
     "execution_count": 98,
     "metadata": {},
     "output_type": "execute_result"
    }
   ],
   "source": [
    "df_consistent[df_consistent[Fingerprint.COUNTER] == 47714]"
   ]
  },
  {
   "cell_type": "code",
   "execution_count": 123,
   "metadata": {},
   "outputs": [
    {
     "data": {
      "text/plain": [
       "counter                 2125\n",
       "id                      2125\n",
       "creationDate            1850\n",
       "endDate                  128\n",
       "addressHttp             1890\n",
       "userAgentHttp            626\n",
       "acceptHttp                 6\n",
       "connectionHttp             1\n",
       "encodingHttp              10\n",
       "languageHttp             219\n",
       "orderHttp                 44\n",
       "pluginsJSHashed          869\n",
       "platformJS                16\n",
       "cookiesJS                  2\n",
       "dntJS                      2\n",
       "timezoneJS                29\n",
       "resolutionJS             135\n",
       "localJS                    2\n",
       "sessionJS                  2\n",
       "canvasJSHashed           480\n",
       "fontsFlashHashed         611\n",
       "resolutionFlash           74\n",
       "languageFlash             22\n",
       "platformFlash             76\n",
       "browserFamily             17\n",
       "globalBrowserVersion      63\n",
       "minorBrowserVersion       18\n",
       "majorBrowserVersion       38\n",
       "os                        14\n",
       "rendererWebGLJS          223\n",
       "vendorWebGLJS             13\n",
       "consistent                 1\n",
       "dtype: int64"
      ]
     },
     "execution_count": 123,
     "metadata": {},
     "output_type": "execute_result"
    }
   ],
   "source": [
    "df_consistent.nunique()\n"
   ]
  },
  {
   "cell_type": "code",
   "execution_count": 148,
   "metadata": {},
   "outputs": [
    {
     "data": {
      "text/plain": [
       "24"
      ]
     },
     "execution_count": 148,
     "metadata": {},
     "output_type": "execute_result"
    }
   ],
   "source": [
    "tmp = df_consistent['globalBrowserVersion'].value_counts()\n",
    "tmp[tmp.values == 1]\n",
    "len(tmp[tmp.values == 1])"
   ]
  },
  {
   "cell_type": "code",
   "execution_count": 159,
   "metadata": {},
   "outputs": [
    {
     "data": {
      "text/plain": [
       "Windows 7     730\n",
       "Windows 10    486\n",
       "Linux         245\n",
       "Mac OS X      170\n",
       "Name: os, dtype: int64"
      ]
     },
     "execution_count": 159,
     "metadata": {},
     "output_type": "execute_result"
    }
   ],
   "source": [
    "nb[:4]"
   ]
  },
  {
   "cell_type": "code",
   "execution_count": 174,
   "metadata": {},
   "outputs": [
    {
     "data": {
      "text/plain": [
       "browserFamily                os           \n",
       "Chrome                       Chrome OS         40\n",
       "                             Linux            107\n",
       "                             Mac OS X          87\n",
       "                             OpenBSD            3\n",
       "                             Windows 10       201\n",
       "                             Windows 7        248\n",
       "                             Windows 8          7\n",
       "                             Windows 8.1       31\n",
       "                             Windows Vista      3\n",
       "                             Windows XP         4\n",
       "Chromium                     Ubuntu            33\n",
       "Dragon                       Windows 10         2\n",
       "                             Windows 7          1\n",
       "Epiphany                     Ubuntu             2\n",
       "Firefox                      FreeBSD            3\n",
       "                             Linux             98\n",
       "                             Mac OS X          80\n",
       "                             NetBSD             1\n",
       "                             OpenBSD            3\n",
       "                             Other              2\n",
       "                             Ubuntu           123\n",
       "                             Windows 10       266\n",
       "                             Windows 7        467\n",
       "                             Windows 8         19\n",
       "                             Windows 8.1      129\n",
       "                             Windows Vista     10\n",
       "                             Windows XP        65\n",
       "Iceweasel                    Linux             25\n",
       "Iron                         Linux              2\n",
       "                             Windows 10         9\n",
       "                             Windows 7          6\n",
       "                             Windows 8.1        1\n",
       "                             Windows Vista      1\n",
       "                             Windows XP         1\n",
       "Konqueror                    Linux              1\n",
       "Maxthon                      Windows XP         1\n",
       "Opera                        Linux              1\n",
       "                             Mac OS X           1\n",
       "                             Other              1\n",
       "                             Windows 7          6\n",
       "                             Windows Vista      2\n",
       "Other                        Other              6\n",
       "                             Windows 10         1\n",
       "Pale Moon (Firefox Variant)  Windows 8          1\n",
       "                             Windows 8.1        1\n",
       "QupZilla                     Linux              1\n",
       "Rekonq                       Linux              1\n",
       "SeaMonkey                    Mac OS X           1\n",
       "Vivaldi                      Linux              9\n",
       "                             Mac OS X           1\n",
       "                             Windows 10         6\n",
       "                             Windows 8.1        1\n",
       "Yandex Browser               Windows 10         1\n",
       "                             Windows 7          2\n",
       "dtype: int64"
      ]
     },
     "execution_count": 174,
     "metadata": {},
     "output_type": "execute_result"
    }
   ],
   "source": [
    "nb_combine = df_consistent.groupby(['browserFamily','os']).size()\n",
    "nb_combine"
   ]
  },
  {
   "cell_type": "code",
   "execution_count": null,
   "metadata": {},
   "outputs": [],
   "source": []
  }
 ],
 "metadata": {
  "kernelspec": {
   "display_name": "Python 3",
   "language": "python",
   "name": "python3"
  },
  "language_info": {
   "codemirror_mode": {
    "name": "ipython",
    "version": 3
   },
   "file_extension": ".py",
   "mimetype": "text/x-python",
   "name": "python",
   "nbconvert_exporter": "python",
   "pygments_lexer": "ipython3",
   "version": "3.6.5"
  }
 },
 "nbformat": 4,
 "nbformat_minor": 2
}
