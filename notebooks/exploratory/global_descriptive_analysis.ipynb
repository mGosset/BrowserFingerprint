{
 "cells": [
  {
   "cell_type": "code",
   "execution_count": 26,
   "metadata": {
    "collapsed": true
   },
   "outputs": [],
   "source": [
    "import pandas as pd\n",
    "\n",
    "import sys\n",
    "sys.path.append(\"../src/\")\n",
    "\n",
    "from src import CSV_DELIMITER\n",
    "from src.fingerprint import Fingerprint"
   ]
  },
  {
   "cell_type": "code",
   "execution_count": 35,
   "metadata": {},
   "outputs": [],
   "source": [
    "ATTRIBUTES_TO_EXCLUDE = [Fingerprint.COUNTER, Fingerprint.CREATION_TIME, Fingerprint.END_TIME]"
   ]
  },
  {
   "cell_type": "code",
   "execution_count": 16,
   "metadata": {},
   "outputs": [],
   "source": [
    "df = pd.read_csv(\"./data/processed/fingerprint_dataset.csv\", delimiter=CSV_DELIMITER, engine=\"python\")"
   ]
  },
  {
   "cell_type": "code",
   "execution_count": null,
   "metadata": {},
   "outputs": [
    {
     "name": "stdout",
     "output_type": "stream",
     "text": [
      "id : 35 distinct values\naddressHttp : 35 distinct values\nuserAgentHttp : 35 distinct values\nacceptHttp : 35 distinct values\nconnectionHttp : 35 distinct values\nencodingHttp : 35 distinct values\nlanguageHttp : 35 distinct values\norderHttp : 35 distinct values\npluginsJSHashed : 35 distinct values\nplatformJS : 35 distinct values\ncookiesJS : 35 distinct values\ndntJS : 35 distinct values\ntimezoneJS : 35 distinct values\nresolutionJS : 35 distinct values\nlocalJS : 35 distinct values\nsessionJS : 35 distinct values\ncanvasJSHashed : 35 distinct values\nfontsFlashHashed : 35 distinct values\nresolutionFlash : 35 distinct values\nlanguageFlash : 35 distinct values\nplatformFlash : 35 distinct values\n"
     ]
    }
   ],
   "source": [
    "attributes_tp_analyze = [attribute for attribute in df.columns.tolist() if attribute not in ATTRIBUTES_TO_EXCLUDE]\n",
    "\n",
    "for attribute in attributes_tp_analyze:\n",
    "    nb_distinct_values = df[attribute].value_counts().count()\n",
    "    print(\"{} : {:d} distinct values\".format(attribute, nb_distinct_values))"
   ]
  },
  {
   "cell_type": "code",
   "execution_count": null,
   "metadata": {},
   "outputs": [],
   "source": []
  }
 ],
 "metadata": {
  "kernelspec": {
   "display_name": "Python 2",
   "language": "python",
   "name": "python2"
  },
  "language_info": {
   "codemirror_mode": {
    "name": "ipython",
    "version": 2
   },
   "file_extension": ".py",
   "mimetype": "text/x-python",
   "name": "python",
   "nbconvert_exporter": "python",
   "pygments_lexer": "ipython2",
   "version": "2.7.6"
  }
 },
 "nbformat": 4,
 "nbformat_minor": 0
}
