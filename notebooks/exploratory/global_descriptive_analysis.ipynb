{
 "cells": [
  {
   "cell_type": "code",
   "execution_count": 26,
   "metadata": {
    "collapsed": true
   },
   "outputs": [],
   "source": [
    "import pandas as pd\n",
    "\n",
    "import sys\n",
    "sys.path.append(\"../src/\")\n",
    "\n",
    "from src import CSV_DELIMITER\n",
    "from src.fingerprint import Fingerprint"
   ]
  },
  {
   "cell_type": "code",
   "execution_count": 35,
   "metadata": {},
   "outputs": [],
   "source": [
    "ATTRIBUTES_TO_EXCLUDE = [Fingerprint.COUNTER, Fingerprint.CREATION_TIME, Fingerprint.END_TIME]"
   ]
  },
  {
   "cell_type": "code",
   "execution_count": 16,
   "metadata": {},
   "outputs": [],
   "source": [
    "df = pd.read_csv(\"./data/processed/fingerprint_dataset.csv\", delimiter=CSV_DELIMITER, engine=\"python\")"
   ]
  },
  {
   "cell_type": "code",
   "execution_count": 39,
   "metadata": {},
   "outputs": [
    {
     "name": "stdout",
     "output_type": "stream",
     "text": [
      "id : 5808 distinct values\n"
     ]
    },
    {
     "name": "stdout",
     "output_type": "stream",
     "text": [
      "addressHttp : 23303 distinct values\nuserAgentHttp : 3550 distinct values\nacceptHttp : 16 distinct values\nconnectionHttp : 2 distinct values\nencodingHttp : 17 distinct values\nlanguageHttp : 660 distinct values\norderHttp : 201 distinct values\n"
     ]
    },
    {
     "name": "stdout",
     "output_type": "stream",
     "text": [
      "pluginsJSHashed : 5843 distinct values\nplatformJS : 32 distinct values\ncookiesJS : 2 distinct values\ndntJS : 2 distinct values\ntimezoneJS : 35 distinct values\nresolutionJS : 595 distinct values\n"
     ]
    },
    {
     "name": "stdout",
     "output_type": "stream",
     "text": [
      "localJS : 2 distinct values\nsessionJS : 2 distinct values\ncanvasJSHashed : 4002 distinct values\nfontsFlashHashed : 5361 distinct values\nresolutionFlash : 311 distinct values\n"
     ]
    },
    {
     "name": "stdout",
     "output_type": "stream",
     "text": [
      "languageFlash : 27 distinct values\nplatformFlash : 290 distinct values\n"
     ]
    }
   ],
   "source": [
    "attributes_tp_analyze = [attribute for attribute in df.columns.tolist() if attribute not in ATTRIBUTES_TO_EXCLUDE]\n",
    "\n",
    "for attribute in attributes_tp_analyze:\n",
    "    nb_distinct_values = df[attribute].value_counts().count()\n",
    "    print(\"{} : {:d} distinct values\".format(attribute, nb_distinct_values))"
   ]
  },
  {
   "cell_type": "code",
   "execution_count": null,
   "metadata": {},
   "outputs": [],
   "source": []
  }
 ],
 "metadata": {
  "kernelspec": {
   "display_name": "Python 2",
   "language": "python",
   "name": "python2"
  },
  "language_info": {
   "codemirror_mode": {
    "name": "ipython",
    "version": 2
   },
   "file_extension": ".py",
   "mimetype": "text/x-python",
   "name": "python",
   "nbconvert_exporter": "python",
   "pygments_lexer": "ipython2",
   "version": "2.7.6"
  }
 },
 "nbformat": 4,
 "nbformat_minor": 0
}
