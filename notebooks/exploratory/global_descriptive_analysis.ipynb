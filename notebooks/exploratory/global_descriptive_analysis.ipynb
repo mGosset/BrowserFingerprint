{
 "cells": [
  {
   "cell_type": "code",
   "execution_count": 19,
   "metadata": {},
   "outputs": [],
   "source": [
    "import pandas as pd\n",
    "import numpy as np\n",
    "import sys\n",
    "sys.path.append(\"../src/\")\n",
    "\n",
    "from src import CSV_DELIMITER\n",
    "from src.fingerprint import Fingerprint\n",
    "\n",
    "\n",
    "DATA_PATH_REL = \"../../data/\""
   ]
  },
  {
   "cell_type": "code",
   "execution_count": 33,
   "metadata": {},
   "outputs": [],
   "source": [
    "ATTRIBUTES_TO_EXCLUDE = [Fingerprint.COUNTER, Fingerprint.CREATION_TIME, Fingerprint.END_TIME, Fingerprint.CONSISTENT]"
   ]
  },
  {
   "cell_type": "code",
   "execution_count": 7,
   "metadata": {},
   "outputs": [],
   "source": [
    "df = pd.read_csv(DATA_PATH_REL + \"processed/fingerprint_dataset.csv\", delimiter=CSV_DELIMITER, engine=\"python\")"
   ]
  },
  {
   "cell_type": "code",
   "execution_count": 34,
   "metadata": {},
   "outputs": [
    {
     "name": "stdout",
     "output_type": "stream",
     "text": [
      "Statistics on the whole dataset: consistent + inconsistent browsers\n",
      "id : 5808 distinct values\n",
      "addressHttp : 23302 distinct values\n",
      "userAgentHttp : 3550 distinct values\n",
      "acceptHttp : 16 distinct values\n",
      "connectionHttp : 2 distinct values\n",
      "encodingHttp : 17 distinct values\n",
      "languageHttp : 660 distinct values\n",
      "orderHttp : 201 distinct values\n",
      "pluginsJSHashed : 5843 distinct values\n",
      "platformJS : 32 distinct values\n",
      "cookiesJS : 2 distinct values\n",
      "dntJS : 2 distinct values\n",
      "timezoneJS : 35 distinct values\n",
      "resolutionJS : 595 distinct values\n",
      "localJS : 2 distinct values\n",
      "sessionJS : 2 distinct values\n",
      "canvasJSHashed : 4001 distinct values\n",
      "fontsFlashHashed : 5360 distinct values\n",
      "resolutionFlash : 311 distinct values\n",
      "languageFlash : 27 distinct values\n",
      "platformFlash : 290 distinct values\n"
     ]
    }
   ],
   "source": [
    "attributes_to_analyze = [attribute for attribute in df.columns.tolist() if attribute not in ATTRIBUTES_TO_EXCLUDE]\n",
    "\n",
    "print(\"Statistics on the whole dataset: consistent + inconsistent browsers\")\n",
    "for attribute in attributes_to_analyze:\n",
    "    nb_distinct_values = df[attribute].value_counts().count()\n",
    "    print(\"{} : {:d} distinct values\".format(attribute, nb_distinct_values))"
   ]
  },
  {
   "cell_type": "code",
   "execution_count": 12,
   "metadata": {},
   "outputs": [],
   "source": [
    "df_consistent = df[df[Fingerprint.CONSISTENT] == True ]"
   ]
  },
  {
   "cell_type": "code",
   "execution_count": 15,
   "metadata": {},
   "outputs": [
    {
     "name": "stdout",
     "output_type": "stream",
     "text": [
      "Statistics on dataset filtered: only consistent browsers\n",
      "id : 2128 distinct values\n",
      "addressHttp : 1893 distinct values\n",
      "userAgentHttp : 629 distinct values\n",
      "acceptHttp : 6 distinct values\n",
      "connectionHttp : 1 distinct values\n",
      "encodingHttp : 10 distinct values\n",
      "languageHttp : 222 distinct values\n",
      "orderHttp : 47 distinct values\n",
      "pluginsJSHashed : 872 distinct values\n",
      "platformJS : 16 distinct values\n",
      "cookiesJS : 2 distinct values\n",
      "dntJS : 2 distinct values\n",
      "timezoneJS : 29 distinct values\n",
      "resolutionJS : 135 distinct values\n",
      "localJS : 2 distinct values\n",
      "sessionJS : 2 distinct values\n",
      "canvasJSHashed : 480 distinct values\n",
      "fontsFlashHashed : 612 distinct values\n",
      "resolutionFlash : 74 distinct values\n",
      "languageFlash : 22 distinct values\n",
      "platformFlash : 76 distinct values\n",
      "consistent : 1 distinct values\n"
     ]
    }
   ],
   "source": [
    "print(\"Statistics on dataset filtered: only consistent browsers\")\n",
    "for attribute in attributes_to_analyze:\n",
    "    nb_distinct_values = df_consistent[attribute].value_counts().count()\n",
    "    print(\"{} : {:d} distinct values\".format(attribute, nb_distinct_values))"
   ]
  },
  {
   "cell_type": "code",
   "execution_count": 43,
   "metadata": {},
   "outputs": [
    {
     "name": "stdout",
     "output_type": "stream",
     "text": [
      "Entropy on dataset filtered: only consistent browsers\n",
      "id : 1.000000 bits\n",
      "addressHttp : 0.975284 bits\n",
      "userAgentHttp : 0.755265 bits\n",
      "acceptHttp : 0.088435 bits\n",
      "connectionHttp : 0.000000 bits\n",
      "encodingHttp : 0.169798 bits\n",
      "languageHttp : 0.383888 bits\n",
      "orderHttp : 0.255276 bits\n",
      "pluginsJSHashed : 0.709155 bits\n",
      "platformJS : 0.153947 bits\n",
      "cookiesJS : 0.012660 bits\n",
      "dntJS : 0.088182 bits\n",
      "timezoneJS : 0.327736 bits\n",
      "resolutionJS : 0.344783 bits\n",
      "localJS : 0.044435 bits\n",
      "sessionJS : 0.044435 bits\n",
      "canvasJSHashed : 0.650355 bits\n",
      "fontsFlashHashed : 0.465055 bits\n",
      "resolutionFlash : 0.274537 bits\n",
      "languageFlash : 0.231278 bits\n",
      "platformFlash : 0.263046 bits\n"
     ]
    }
   ],
   "source": [
    "# not really precise since having the same browser multiple times with the same value decrease the entropy,\n",
    "# which should not be the case\n",
    "\n",
    "def compute_entropy(df, attribute):\n",
    "    entropy = 0\n",
    "    serie = df[attribute].value_counts()\n",
    "    \n",
    "    if len(serie) == 1:\n",
    "        return 0\n",
    "    \n",
    "    total_values = serie.sum()\n",
    "    for index, value in serie.iteritems():\n",
    "        pi = float(value)/float(total_values)\n",
    "        entropy += pi * np.log2(pi)\n",
    "    \n",
    "    return -entropy\n",
    "\n",
    "def compute_normalized_entropy(df, attribute):\n",
    "    number_distinct = df[attribute].value_counts().sum()\n",
    "    \n",
    "    if number_distinct == 1:\n",
    "        return 0\n",
    "    \n",
    "    pi_worst = 1.0 / float(number_distinct)\n",
    "    worst_case = -number_distinct * pi_worst * np.log2(pi_worst)\n",
    "    \n",
    "    df[attribute].value_counts().count()\n",
    "    entropy = compute_entropy(df, attribute)\n",
    "    return entropy / worst_case\n",
    "\n",
    "\n",
    "print(\"Entropy on dataset filtered: only consistent browsers\")\n",
    "for attribute in attributes_to_analyze:\n",
    "    entropy = compute_normalized_entropy(df_consistent, attribute)\n",
    "    print(\"{} : {:f} bits\".format(attribute, entropy)) \n"
   ]
  },
  {
   "cell_type": "code",
   "execution_count": null,
   "metadata": {},
   "outputs": [],
   "source": []
  }
 ],
 "metadata": {
  "kernelspec": {
   "display_name": "Python 3",
   "language": "python",
   "name": "python3"
  },
  "language_info": {
   "codemirror_mode": {
    "name": "ipython",
    "version": 3
   },
   "file_extension": ".py",
   "mimetype": "text/x-python",
   "name": "python",
   "nbconvert_exporter": "python",
   "pygments_lexer": "ipython3",
   "version": "3.5.2"
  }
 },
 "nbformat": 4,
 "nbformat_minor": 1
}
